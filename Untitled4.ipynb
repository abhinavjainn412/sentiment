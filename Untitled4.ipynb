{
 "cells": [
  {
   "cell_type": "code",
   "execution_count": 14,
   "metadata": {},
   "outputs": [],
   "source": [
    "import pandas as pd\n",
    "import re\n",
    "from keras.preprocessing.text import Tokenizer\n",
    "from keras.preprocessing.sequence import pad_sequences\n",
    "import numpy as np"
   ]
  },
  {
   "cell_type": "code",
   "execution_count": 15,
   "metadata": {},
   "outputs": [],
   "source": [
    "congress_test = pd.read_csv('congress_test.csv')\n",
    "bjp_test = pd.read_csv('bjp_test.csv')"
   ]
  },
  {
   "cell_type": "code",
   "execution_count": 16,
   "metadata": {},
   "outputs": [],
   "source": [
    "congress_test =congress_test[:2000]\n",
    "bjp_test = bjp_test[0:2000]"
   ]
  },
  {
   "cell_type": "code",
   "execution_count": 17,
   "metadata": {},
   "outputs": [
    {
     "data": {
      "text/html": [
       "<div>\n",
       "<style scoped>\n",
       "    .dataframe tbody tr th:only-of-type {\n",
       "        vertical-align: middle;\n",
       "    }\n",
       "\n",
       "    .dataframe tbody tr th {\n",
       "        vertical-align: top;\n",
       "    }\n",
       "\n",
       "    .dataframe thead th {\n",
       "        text-align: right;\n",
       "    }\n",
       "</style>\n",
       "<table border=\"1\" class=\"dataframe\">\n",
       "  <thead>\n",
       "    <tr style=\"text-align: right;\">\n",
       "      <th></th>\n",
       "      <th>id</th>\n",
       "      <th>created_at</th>\n",
       "      <th>source</th>\n",
       "      <th>original_text</th>\n",
       "      <th>clean_text</th>\n",
       "      <th>sentiment</th>\n",
       "      <th>polarity</th>\n",
       "      <th>subjectivity</th>\n",
       "      <th>lang</th>\n",
       "      <th>favorite_count</th>\n",
       "      <th>retweet_count</th>\n",
       "      <th>original_author</th>\n",
       "      <th>possibly_sensitive</th>\n",
       "      <th>hashtags</th>\n",
       "      <th>user_mentions</th>\n",
       "      <th>place</th>\n",
       "      <th>place_coord_boundaries</th>\n",
       "    </tr>\n",
       "  </thead>\n",
       "  <tbody>\n",
       "    <tr>\n",
       "      <th>0</th>\n",
       "      <td>1.120000e+18</td>\n",
       "      <td>Sun Apr 21 23:49:57 +0000 2019</td>\n",
       "      <td>&lt;a href=\"http://twitter.com/download/iphone\" r...</td>\n",
       "      <td>RT @mathrubhumieng: Felt excited when Rahul Un...</td>\n",
       "      <td>RT mathrubhumieng Felt excited Rahul Uncle hug...</td>\n",
       "      <td>Sentiment(polarity=0.375, subjectivity=0.75)</td>\n",
       "      <td>0.375</td>\n",
       "      <td>0.750</td>\n",
       "      <td>en</td>\n",
       "      <td>0.0</td>\n",
       "      <td>1.0</td>\n",
       "      <td>ManuParel</td>\n",
       "      <td>False</td>\n",
       "      <td>RahulGandhi, mathrubhumi</td>\n",
       "      <td>mathrubhumieng</td>\n",
       "      <td>Dubai</td>\n",
       "      <td>NaN</td>\n",
       "    </tr>\n",
       "    <tr>\n",
       "      <th>1</th>\n",
       "      <td>1.120000e+18</td>\n",
       "      <td>Sun Apr 21 23:43:58 +0000 2019</td>\n",
       "      <td>&lt;a href=\"http://twitter.com/download/android\" ...</td>\n",
       "      <td>RT @TheRealMukeshK: Here is UK #CompaniesHouse...</td>\n",
       "      <td>RT TheRealMukeshK Here UK CompaniesHouse filin...</td>\n",
       "      <td>Sentiment(polarity=0.0, subjectivity=0.0)</td>\n",
       "      <td>0.000</td>\n",
       "      <td>0.000</td>\n",
       "      <td>en</td>\n",
       "      <td>0.0</td>\n",
       "      <td>1449.0</td>\n",
       "      <td>rohit_thakkar</td>\n",
       "      <td>NaN</td>\n",
       "      <td>CompaniesHouse, RahulGandhi</td>\n",
       "      <td>TheRealMukeshK</td>\n",
       "      <td>NaN</td>\n",
       "      <td>NaN</td>\n",
       "    </tr>\n",
       "    <tr>\n",
       "      <th>2</th>\n",
       "      <td>1.120000e+18</td>\n",
       "      <td>Sun Apr 21 23:36:50 +0000 2019</td>\n",
       "      <td>&lt;a href=\"http://twitter.com\" rel=\"nofollow\"&gt;Tw...</td>\n",
       "      <td>Indian voters when casting ballot, remember:\\r...</td>\n",
       "      <td>Indian voters casting ballot remember Ur respo...</td>\n",
       "      <td>Sentiment(polarity=0.0, subjectivity=0.125)</td>\n",
       "      <td>0.000</td>\n",
       "      <td>0.125</td>\n",
       "      <td>en</td>\n",
       "      <td>0.0</td>\n",
       "      <td>0.0</td>\n",
       "      <td>rasikv</td>\n",
       "      <td>NaN</td>\n",
       "      <td>SoniaGandhi</td>\n",
       "      <td>NaN</td>\n",
       "      <td>Melbourne</td>\n",
       "      <td>NaN</td>\n",
       "    </tr>\n",
       "    <tr>\n",
       "      <th>3</th>\n",
       "      <td>1.120000e+18</td>\n",
       "      <td>Sun Apr 21 23:35:11 +0000 2019</td>\n",
       "      <td>&lt;a href=\"http://twitter.com/download/iphone\" r...</td>\n",
       "      <td>RT @TheRealMukeshK: Here is UK #CompaniesHouse...</td>\n",
       "      <td>RT TheRealMukeshK Here UK CompaniesHouse filin...</td>\n",
       "      <td>Sentiment(polarity=0.0, subjectivity=0.0)</td>\n",
       "      <td>0.000</td>\n",
       "      <td>0.000</td>\n",
       "      <td>en</td>\n",
       "      <td>0.0</td>\n",
       "      <td>1449.0</td>\n",
       "      <td>krishnarajJGD</td>\n",
       "      <td>NaN</td>\n",
       "      <td>CompaniesHouse, RahulGandhi</td>\n",
       "      <td>TheRealMukeshK</td>\n",
       "      <td>NaN</td>\n",
       "      <td>NaN</td>\n",
       "    </tr>\n",
       "    <tr>\n",
       "      <th>4</th>\n",
       "      <td>1.120000e+18</td>\n",
       "      <td>Sun Apr 21 23:31:52 +0000 2019</td>\n",
       "      <td>&lt;a href=\"http://twitter.com/download/iphone\" r...</td>\n",
       "      <td>@srivatsayb @UrbanXXpat Strange is our #Democr...</td>\n",
       "      <td>srivatsayb UrbanXXpat Strange Democracy RahulG...</td>\n",
       "      <td>Sentiment(polarity=-0.05, subjectivity=0.15)</td>\n",
       "      <td>-0.050</td>\n",
       "      <td>0.150</td>\n",
       "      <td>en</td>\n",
       "      <td>0.0</td>\n",
       "      <td>0.0</td>\n",
       "      <td>DrSundara3</td>\n",
       "      <td>NaN</td>\n",
       "      <td>Democracy, RahulGandhi, MP</td>\n",
       "      <td>srivatsayb, UrbanXXpat</td>\n",
       "      <td>Bangalore</td>\n",
       "      <td>NaN</td>\n",
       "    </tr>\n",
       "  </tbody>\n",
       "</table>\n",
       "</div>"
      ],
      "text/plain": [
       "             id                      created_at  \\\n",
       "0  1.120000e+18  Sun Apr 21 23:49:57 +0000 2019   \n",
       "1  1.120000e+18  Sun Apr 21 23:43:58 +0000 2019   \n",
       "2  1.120000e+18  Sun Apr 21 23:36:50 +0000 2019   \n",
       "3  1.120000e+18  Sun Apr 21 23:35:11 +0000 2019   \n",
       "4  1.120000e+18  Sun Apr 21 23:31:52 +0000 2019   \n",
       "\n",
       "                                              source  \\\n",
       "0  <a href=\"http://twitter.com/download/iphone\" r...   \n",
       "1  <a href=\"http://twitter.com/download/android\" ...   \n",
       "2  <a href=\"http://twitter.com\" rel=\"nofollow\">Tw...   \n",
       "3  <a href=\"http://twitter.com/download/iphone\" r...   \n",
       "4  <a href=\"http://twitter.com/download/iphone\" r...   \n",
       "\n",
       "                                       original_text  \\\n",
       "0  RT @mathrubhumieng: Felt excited when Rahul Un...   \n",
       "1  RT @TheRealMukeshK: Here is UK #CompaniesHouse...   \n",
       "2  Indian voters when casting ballot, remember:\\r...   \n",
       "3  RT @TheRealMukeshK: Here is UK #CompaniesHouse...   \n",
       "4  @srivatsayb @UrbanXXpat Strange is our #Democr...   \n",
       "\n",
       "                                          clean_text  \\\n",
       "0  RT mathrubhumieng Felt excited Rahul Uncle hug...   \n",
       "1  RT TheRealMukeshK Here UK CompaniesHouse filin...   \n",
       "2  Indian voters casting ballot remember Ur respo...   \n",
       "3  RT TheRealMukeshK Here UK CompaniesHouse filin...   \n",
       "4  srivatsayb UrbanXXpat Strange Democracy RahulG...   \n",
       "\n",
       "                                      sentiment  polarity  subjectivity lang  \\\n",
       "0  Sentiment(polarity=0.375, subjectivity=0.75)     0.375         0.750   en   \n",
       "1     Sentiment(polarity=0.0, subjectivity=0.0)     0.000         0.000   en   \n",
       "2   Sentiment(polarity=0.0, subjectivity=0.125)     0.000         0.125   en   \n",
       "3     Sentiment(polarity=0.0, subjectivity=0.0)     0.000         0.000   en   \n",
       "4  Sentiment(polarity=-0.05, subjectivity=0.15)    -0.050         0.150   en   \n",
       "\n",
       "   favorite_count  retweet_count original_author possibly_sensitive  \\\n",
       "0             0.0            1.0       ManuParel              False   \n",
       "1             0.0         1449.0   rohit_thakkar                NaN   \n",
       "2             0.0            0.0          rasikv                NaN   \n",
       "3             0.0         1449.0   krishnarajJGD                NaN   \n",
       "4             0.0            0.0      DrSundara3                NaN   \n",
       "\n",
       "                      hashtags           user_mentions      place  \\\n",
       "0     RahulGandhi, mathrubhumi          mathrubhumieng      Dubai   \n",
       "1  CompaniesHouse, RahulGandhi          TheRealMukeshK        NaN   \n",
       "2                  SoniaGandhi                     NaN  Melbourne   \n",
       "3  CompaniesHouse, RahulGandhi          TheRealMukeshK        NaN   \n",
       "4   Democracy, RahulGandhi, MP  srivatsayb, UrbanXXpat  Bangalore   \n",
       "\n",
       "  place_coord_boundaries  \n",
       "0                    NaN  \n",
       "1                    NaN  \n",
       "2                    NaN  \n",
       "3                    NaN  \n",
       "4                    NaN  "
      ]
     },
     "execution_count": 17,
     "metadata": {},
     "output_type": "execute_result"
    }
   ],
   "source": [
    "congress_test[0:5]"
   ]
  },
  {
   "cell_type": "code",
   "execution_count": 18,
   "metadata": {},
   "outputs": [
    {
     "data": {
      "text/html": [
       "<div>\n",
       "<style scoped>\n",
       "    .dataframe tbody tr th:only-of-type {\n",
       "        vertical-align: middle;\n",
       "    }\n",
       "\n",
       "    .dataframe tbody tr th {\n",
       "        vertical-align: top;\n",
       "    }\n",
       "\n",
       "    .dataframe thead th {\n",
       "        text-align: right;\n",
       "    }\n",
       "</style>\n",
       "<table border=\"1\" class=\"dataframe\">\n",
       "  <thead>\n",
       "    <tr style=\"text-align: right;\">\n",
       "      <th></th>\n",
       "      <th>id</th>\n",
       "      <th>created_at</th>\n",
       "      <th>source</th>\n",
       "      <th>original_text</th>\n",
       "      <th>clean_text</th>\n",
       "      <th>sentiment</th>\n",
       "      <th>polarity</th>\n",
       "      <th>subjectivity</th>\n",
       "      <th>lang</th>\n",
       "      <th>favorite_count</th>\n",
       "      <th>retweet_count</th>\n",
       "      <th>original_author</th>\n",
       "      <th>possibly_sensitive</th>\n",
       "      <th>hashtags</th>\n",
       "      <th>user_mentions</th>\n",
       "      <th>place</th>\n",
       "      <th>place_coord_boundaries</th>\n",
       "    </tr>\n",
       "  </thead>\n",
       "  <tbody>\n",
       "    <tr>\n",
       "      <th>0</th>\n",
       "      <td>NaN</td>\n",
       "      <td>NaN</td>\n",
       "      <td>NaN</td>\n",
       "      <td>NaN</td>\n",
       "      <td>NaN</td>\n",
       "      <td>NaN</td>\n",
       "      <td>NaN</td>\n",
       "      <td>NaN</td>\n",
       "      <td>NaN</td>\n",
       "      <td>NaN</td>\n",
       "      <td>NaN</td>\n",
       "      <td>NaN</td>\n",
       "      <td>NaN</td>\n",
       "      <td>NaN</td>\n",
       "      <td>NaN</td>\n",
       "      <td>NaN</td>\n",
       "      <td>NaN</td>\n",
       "    </tr>\n",
       "    <tr>\n",
       "      <th>1</th>\n",
       "      <td>1.120000e+18</td>\n",
       "      <td>Mon Apr 22 04:08:40 +0000 2019</td>\n",
       "      <td>&lt;a href=\"http://www.anupchaudhary.com\" rel=\"no...</td>\n",
       "      <td>RT @pennewstweet: Girish Bapat plays austerity...</td>\n",
       "      <td>RT pennewstweet Girish Bapat plays austerity c...</td>\n",
       "      <td>Sentiment(polarity=0.0, subjectivity=0.0)</td>\n",
       "      <td>0.0</td>\n",
       "      <td>0.0</td>\n",
       "      <td>en</td>\n",
       "      <td>0.0</td>\n",
       "      <td>1.0</td>\n",
       "      <td>punefeed</td>\n",
       "      <td>NaN</td>\n",
       "      <td>GirishBapat, Pune, BJP, Maharashtra, congress</td>\n",
       "      <td>pennewstweet</td>\n",
       "      <td>Pune, India</td>\n",
       "      <td>NaN</td>\n",
       "    </tr>\n",
       "    <tr>\n",
       "      <th>2</th>\n",
       "      <td>NaN</td>\n",
       "      <td>NaN</td>\n",
       "      <td>NaN</td>\n",
       "      <td>NaN</td>\n",
       "      <td>NaN</td>\n",
       "      <td>NaN</td>\n",
       "      <td>NaN</td>\n",
       "      <td>NaN</td>\n",
       "      <td>NaN</td>\n",
       "      <td>NaN</td>\n",
       "      <td>NaN</td>\n",
       "      <td>NaN</td>\n",
       "      <td>NaN</td>\n",
       "      <td>NaN</td>\n",
       "      <td>NaN</td>\n",
       "      <td>NaN</td>\n",
       "      <td>NaN</td>\n",
       "    </tr>\n",
       "    <tr>\n",
       "      <th>3</th>\n",
       "      <td>1.120000e+18</td>\n",
       "      <td>Mon Apr 22 04:08:37 +0000 2019</td>\n",
       "      <td>&lt;a href=\"https://twitter.com/RTHyderabad\" rel=...</td>\n",
       "      <td>RT @pennewstweet: Hyderabad a safe heaven for ...</td>\n",
       "      <td>RT pennewstweet Hyderabad safe heaven islamic ...</td>\n",
       "      <td>Sentiment(polarity=0.5, subjectivity=0.5)</td>\n",
       "      <td>0.5</td>\n",
       "      <td>0.5</td>\n",
       "      <td>en</td>\n",
       "      <td>0.0</td>\n",
       "      <td>1.0</td>\n",
       "      <td>RTHyderabad</td>\n",
       "      <td>NaN</td>\n",
       "      <td>Dattatreya, Hyderabad, BJP, islamic, terrorist...</td>\n",
       "      <td>pennewstweet</td>\n",
       "      <td>Location</td>\n",
       "      <td>NaN</td>\n",
       "    </tr>\n",
       "    <tr>\n",
       "      <th>4</th>\n",
       "      <td>NaN</td>\n",
       "      <td>NaN</td>\n",
       "      <td>NaN</td>\n",
       "      <td>NaN</td>\n",
       "      <td>NaN</td>\n",
       "      <td>NaN</td>\n",
       "      <td>NaN</td>\n",
       "      <td>NaN</td>\n",
       "      <td>NaN</td>\n",
       "      <td>NaN</td>\n",
       "      <td>NaN</td>\n",
       "      <td>NaN</td>\n",
       "      <td>NaN</td>\n",
       "      <td>NaN</td>\n",
       "      <td>NaN</td>\n",
       "      <td>NaN</td>\n",
       "      <td>NaN</td>\n",
       "    </tr>\n",
       "  </tbody>\n",
       "</table>\n",
       "</div>"
      ],
      "text/plain": [
       "             id                      created_at  \\\n",
       "0           NaN                             NaN   \n",
       "1  1.120000e+18  Mon Apr 22 04:08:40 +0000 2019   \n",
       "2           NaN                             NaN   \n",
       "3  1.120000e+18  Mon Apr 22 04:08:37 +0000 2019   \n",
       "4           NaN                             NaN   \n",
       "\n",
       "                                              source  \\\n",
       "0                                                NaN   \n",
       "1  <a href=\"http://www.anupchaudhary.com\" rel=\"no...   \n",
       "2                                                NaN   \n",
       "3  <a href=\"https://twitter.com/RTHyderabad\" rel=...   \n",
       "4                                                NaN   \n",
       "\n",
       "                                       original_text  \\\n",
       "0                                                NaN   \n",
       "1  RT @pennewstweet: Girish Bapat plays austerity...   \n",
       "2                                                NaN   \n",
       "3  RT @pennewstweet: Hyderabad a safe heaven for ...   \n",
       "4                                                NaN   \n",
       "\n",
       "                                          clean_text  \\\n",
       "0                                                NaN   \n",
       "1  RT pennewstweet Girish Bapat plays austerity c...   \n",
       "2                                                NaN   \n",
       "3  RT pennewstweet Hyderabad safe heaven islamic ...   \n",
       "4                                                NaN   \n",
       "\n",
       "                                   sentiment  polarity  subjectivity lang  \\\n",
       "0                                        NaN       NaN           NaN  NaN   \n",
       "1  Sentiment(polarity=0.0, subjectivity=0.0)       0.0           0.0   en   \n",
       "2                                        NaN       NaN           NaN  NaN   \n",
       "3  Sentiment(polarity=0.5, subjectivity=0.5)       0.5           0.5   en   \n",
       "4                                        NaN       NaN           NaN  NaN   \n",
       "\n",
       "   favorite_count  retweet_count original_author possibly_sensitive  \\\n",
       "0             NaN            NaN             NaN                NaN   \n",
       "1             0.0            1.0        punefeed                NaN   \n",
       "2             NaN            NaN             NaN                NaN   \n",
       "3             0.0            1.0     RTHyderabad                NaN   \n",
       "4             NaN            NaN             NaN                NaN   \n",
       "\n",
       "                                            hashtags user_mentions  \\\n",
       "0                                                NaN           NaN   \n",
       "1      GirishBapat, Pune, BJP, Maharashtra, congress  pennewstweet   \n",
       "2                                                NaN           NaN   \n",
       "3  Dattatreya, Hyderabad, BJP, islamic, terrorist...  pennewstweet   \n",
       "4                                                NaN           NaN   \n",
       "\n",
       "         place place_coord_boundaries  \n",
       "0          NaN                    NaN  \n",
       "1  Pune, India                    NaN  \n",
       "2          NaN                    NaN  \n",
       "3     Location                    NaN  \n",
       "4          NaN                    NaN  "
      ]
     },
     "execution_count": 18,
     "metadata": {},
     "output_type": "execute_result"
    }
   ],
   "source": [
    "bjp_test[0:5]"
   ]
  },
  {
   "cell_type": "code",
   "execution_count": 19,
   "metadata": {},
   "outputs": [],
   "source": [
    "def tweet_to_words( raw_review ):\n",
    "    # Remove non-letters        \n",
    "    letters_only = re.sub(\"[^a-zA-Z]\", \" \", str(raw_review))\n",
    "    tweet = re.sub('((www\\.[^\\s]+)|(https?://[^\\s]+))', 'URL', str(letters_only)) # remove URLs\n",
    "    tweet = re.sub('RT', ' ', str(tweet)) \n",
    "\n",
    "    #Convert to lower case, split into individual words\n",
    "    tweet = letters_only.lower().split()                             \n",
    "    return( \" \".join(tweet))"
   ]
  },
  {
   "cell_type": "code",
   "execution_count": 20,
   "metadata": {},
   "outputs": [],
   "source": [
    "# Get the number of Tweets based on the dataframe column size\n",
    "num_tweets = 2000\n",
    "\n",
    "# Initialize an empty list to hold the clean reviews\n",
    "\n",
    "\n",
    "# Loop over each tweet; create an index i that goes from 0 to the length\n",
    "# of the tweet list\n",
    "def clean_test(dataframe):\n",
    "    clean_train_tweets = []\n",
    "    for i in range( 0, num_tweets ):\n",
    "        # Call function for each one, and add the result to the list of\n",
    "        clean_train_tweets.append( tweet_to_words(dataframe[i]))\n",
    "    return clean_train_tweets"
   ]
  },
  {
   "cell_type": "code",
   "execution_count": 21,
   "metadata": {},
   "outputs": [],
   "source": [
    "congress_inputs = clean_test(congress_test['clean_text'])\n",
    "bjp_inputs = clean_test(bjp_test['clean_text'])"
   ]
  },
  {
   "cell_type": "code",
   "execution_count": 22,
   "metadata": {},
   "outputs": [],
   "source": [
    "def tokenze_data(data_inputs):\n",
    "        tokenizer = Tokenizer(nb_words=2000)\n",
    "        tokenizer.fit_on_texts(data_inputs)\n",
    "        sequences = tokenizer.texts_to_sequences(data_inputs)\n",
    "\n",
    "        word_index = tokenizer.word_index\n",
    "        print('Found %s unique tokens.' % len(word_index))\n",
    "        max_len = 200\n",
    "        data = pad_sequences(sequences, max_len)\n",
    "        print('Shape of data tensor:', data.shape)\n",
    "        indices = np.arange(data.shape[0])\n",
    "        np.random.shuffle(indices)\n",
    "        data = data[indices]\n",
    "        return data"
   ]
  },
  {
   "cell_type": "code",
   "execution_count": 23,
   "metadata": {},
   "outputs": [
    {
     "name": "stdout",
     "output_type": "stream",
     "text": [
      "Found 2588 unique tokens.\n",
      "Shape of data tensor: (2000, 200)\n",
      "Found 3459 unique tokens.\n",
      "Shape of data tensor: (2000, 200)\n"
     ]
    },
    {
     "name": "stderr",
     "output_type": "stream",
     "text": [
      "C:\\Users\\abhin\\anaconda3\\lib\\site-packages\\keras_preprocessing\\text.py:180: UserWarning: The `nb_words` argument in `Tokenizer` has been renamed `num_words`.\n",
      "  warnings.warn('The `nb_words` argument in `Tokenizer` '\n"
     ]
    }
   ],
   "source": [
    "congress_inputs = tokenze_data(congress_inputs)\n",
    "bjp_inputs = tokenze_data(bjp_inputs)"
   ]
  },
  {
   "cell_type": "code",
   "execution_count": 49,
   "metadata": {},
   "outputs": [],
   "source": [
    "from tensorflow.keras.models import Sequential\n",
    "from tensorflow.keras.layers import LSTM,Dense, Dropout, SpatialDropout1D\n",
    "from tensorflow.keras.layers import Embedding\n",
    "embedding_vector_length = 32\n",
    "model = Sequential()\n",
    "model.add(Embedding(vocab_size, embedding_vector_length, input_length=200))\n",
    "model.add(SpatialDropout1D(0.25))\n",
    "model.add(LSTM(50, dropout=0.5, recurrent_dropout=0.5))\n",
    "model.add(Dropout(0.2))\n",
    "model.add(Dense(1, activation='sigmoid'))\n",
    "model.compile(loss='binary_crossentropy',optimizer='adam', metrics=['accuracy'])"
   ]
  },
  {
   "cell_type": "code",
   "execution_count": 50,
   "metadata": {},
   "outputs": [],
   "source": [
    "congress_prediction = model.predict(congress_inputs)\n",
    "bjp_prediction = model.predict(bjp_inputs)"
   ]
  },
  {
   "cell_type": "code",
   "execution_count": 54,
   "metadata": {},
   "outputs": [
    {
     "data": {
      "text/plain": [
       "array([[0.49952027],\n",
       "       [0.49952027],\n",
       "       [0.49994045],\n",
       "       ...,\n",
       "       [0.5000109 ],\n",
       "       [0.5000109 ],\n",
       "       [0.50143844]], dtype=float32)"
      ]
     },
     "execution_count": 54,
     "metadata": {},
     "output_type": "execute_result"
    }
   ],
   "source": [
    "congress_prediction"
   ]
  },
  {
   "cell_type": "code",
   "execution_count": 51,
   "metadata": {},
   "outputs": [],
   "source": [
    "congress_pred = (congress_prediction>0.5)\n",
    "bjp_pred = (bjp_prediction>0.5)"
   ]
  },
  {
   "cell_type": "code",
   "execution_count": 55,
   "metadata": {},
   "outputs": [
    {
     "data": {
      "text/plain": [
       "array([[False],\n",
       "       [False],\n",
       "       [False],\n",
       "       ...,\n",
       "       [ True],\n",
       "       [ True],\n",
       "       [ True]])"
      ]
     },
     "execution_count": 55,
     "metadata": {},
     "output_type": "execute_result"
    }
   ],
   "source": [
    "congress_pred"
   ]
  },
  {
   "cell_type": "code",
   "execution_count": 58,
   "metadata": {},
   "outputs": [
    {
     "data": {
      "text/plain": [
       "2000"
      ]
     },
     "execution_count": 58,
     "metadata": {},
     "output_type": "execute_result"
    }
   ],
   "source": [
    "len(congress_pred)"
   ]
  },
  {
   "cell_type": "code",
   "execution_count": 59,
   "metadata": {},
   "outputs": [
    {
     "data": {
      "text/plain": [
       "(2000, 1)"
      ]
     },
     "execution_count": 59,
     "metadata": {},
     "output_type": "execute_result"
    }
   ],
   "source": [
    "congress_pred.shape"
   ]
  },
  {
   "cell_type": "code",
   "execution_count": 63,
   "metadata": {},
   "outputs": [],
   "source": [
    "def get_predictions(party_pred):\n",
    "    x = 0\n",
    "    for i in party_pred:\n",
    "        if(i[0]==True):\n",
    "            x+=1\n",
    "    return x"
   ]
  },
  {
   "cell_type": "code",
   "execution_count": 64,
   "metadata": {},
   "outputs": [
    {
     "name": "stdout",
     "output_type": "stream",
     "text": [
      "Congress Positive Tweets: 938\n",
      "BJP Positive Tweets: 1336\n"
     ]
    }
   ],
   "source": [
    "congress_numbers = get_predictions(congress_pred)\n",
    "bjp_numbers = get_predictions(bjp_pred)\n",
    "print(\"Congress Positive Tweets:\",congress_numbers)\n",
    "print(\"BJP Positive Tweets:\",bjp_numbers)"
   ]
  },
  {
   "cell_type": "code",
   "execution_count": null,
   "metadata": {},
   "outputs": [],
   "source": []
  },
  {
   "cell_type": "code",
   "execution_count": null,
   "metadata": {},
   "outputs": [],
   "source": []
  },
  {
   "cell_type": "code",
   "execution_count": 45,
   "metadata": {},
   "outputs": [],
   "source": []
  },
  {
   "cell_type": "code",
   "execution_count": 27,
   "metadata": {},
   "outputs": [],
   "source": []
  },
  {
   "cell_type": "code",
   "execution_count": 28,
   "metadata": {},
   "outputs": [],
   "source": []
  },
  {
   "cell_type": "code",
   "execution_count": 29,
   "metadata": {},
   "outputs": [],
   "source": []
  },
  {
   "cell_type": "code",
   "execution_count": 30,
   "metadata": {},
   "outputs": [],
   "source": []
  },
  {
   "cell_type": "code",
   "execution_count": 42,
   "metadata": {},
   "outputs": [],
   "source": []
  },
  {
   "cell_type": "code",
   "execution_count": null,
   "metadata": {},
   "outputs": [],
   "source": []
  }
 ],
 "metadata": {
  "kernelspec": {
   "display_name": "Python 3",
   "language": "python",
   "name": "python3"
  },
  "language_info": {
   "codemirror_mode": {
    "name": "ipython",
    "version": 3
   },
   "file_extension": ".py",
   "mimetype": "text/x-python",
   "name": "python",
   "nbconvert_exporter": "python",
   "pygments_lexer": "ipython3",
   "version": "3.8.5"
  }
 },
 "nbformat": 4,
 "nbformat_minor": 4
}
